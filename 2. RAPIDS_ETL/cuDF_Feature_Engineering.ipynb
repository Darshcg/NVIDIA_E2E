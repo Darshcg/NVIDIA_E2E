{
 "cells": [
  {
   "cell_type": "markdown",
   "metadata": {
    "colab_type": "text",
    "id": "CLSFLaB9sGzU"
   },
   "source": [
    "<center> <h1> Feature Engineering and data cleansing with RAPIDS </h1> </center>"
   ]
  },
  {
   "cell_type": "code",
   "execution_count": null,
   "metadata": {
    "colab": {},
    "colab_type": "code",
    "id": "2FZxczVEr9VI"
   },
   "outputs": [],
   "source": [
    "import cuml\n",
    "import cudf\n",
    "import nvcategory\n",
    "\n",
    "import xgboost as xgb\n",
    "import pandas as pd\n",
    "import numpy as np\n",
    "from math import sqrt\n",
    "from sklearn.metrics import mean_squared_error, roc_auc_score"
   ]
  },
  {
   "cell_type": "markdown",
   "metadata": {},
   "source": [
    "#### Read in the data to GPU memory. "
   ]
  },
  {
   "cell_type": "code",
   "execution_count": null,
   "metadata": {
    "colab": {},
    "colab_type": "code",
    "id": "1Imclcgzr9VN"
   },
   "outputs": [],
   "source": [
    "#If you put the zip file in the root folder, notice how it decompresses as it reads the data into memory.\n",
    "gdf = cudf.read_csv('train.csv')"
   ]
  },
  {
   "cell_type": "code",
   "execution_count": null,
   "metadata": {
    "colab": {},
    "colab_type": "code",
    "id": "v9r-9Amwr9VQ"
   },
   "outputs": [],
   "source": [
    "#Taking a look at the data. We use \"to_pandas()\" to get the pretty printing. \n",
    "gdf.head().to_pandas()"
   ]
  },
  {
   "cell_type": "markdown",
   "metadata": {
    "colab": {},
    "colab_type": "code",
    "id": "5OMuC_Slr9VU"
   },
   "source": [
    "#### EXERCISE: Let's do some descriptive statistics "
   ]
  },
  {
   "cell_type": "code",
   "execution_count": null,
   "metadata": {
    "colab": {},
    "colab_type": "code",
    "id": "YiQriMl-r9VX"
   },
   "outputs": [],
   "source": [
    "#Hint: try some of the function you may know from Pandas like DataFrame.Series.max() or look up the documentation here:"
   ]
  },
  {
   "cell_type": "code",
   "execution_count": null,
   "metadata": {
    "colab": {},
    "colab_type": "code",
    "id": "omO3vVp1r9Va"
   },
   "outputs": [],
   "source": [
    "#grabbing the first character of the years in city string to get rid of plus sign, and converting to int\n",
    "<Your Code Goes Here>"
   ]
  },
  {
   "cell_type": "code",
   "execution_count": null,
   "metadata": {
    "colab": {},
    "colab_type": "code",
    "id": "ctRD1zPvr9Vd"
   },
   "outputs": [],
   "source": [
    "#Here we can see how we can control what the value of our dummies with the replace method and turn strings to ints\n",
    "gdf['City_Category'] = gdf.City_Category.str.replace('A', '1')\n",
    "gdf['City_Category'] = gdf.City_Category.str.replace('B', '2')\n",
    "gdf['City_Category'] = gdf.City_Category.str.replace('C', '3')\n",
    "gdf['City_Category'] = gdf['City_Category'].str.stoi()"
   ]
  },
  {
   "cell_type": "markdown",
   "metadata": {
    "colab": {},
    "colab_type": "code",
    "id": "SBS7nPUUr9Vg"
   },
   "source": [
    "#### EXERCISE: replace city in the same way as City Category"
   ]
  },
  {
   "cell_type": "code",
   "execution_count": null,
   "metadata": {
    "colab": {},
    "colab_type": "code",
    "id": "5Jszsvutr9Vk"
   },
   "outputs": [],
   "source": [
    "#Hint: the Gender column only has values 'M' and 'F'"
   ]
  },
  {
   "cell_type": "code",
   "execution_count": null,
   "metadata": {
    "colab": {},
    "colab_type": "code",
    "id": "Kom2rqrwr9Vp"
   },
   "outputs": [],
   "source": [
    "#Solution\n",
    "<Your Code Goes Here>"
   ]
  },
  {
   "cell_type": "code",
   "execution_count": null,
   "metadata": {
    "colab": {},
    "colab_type": "code",
    "id": "Vob_SVh1r9Vu"
   },
   "outputs": [],
   "source": [
    "#Let's take a look at how many products we have\n",
    "prod_count = cudf.Series(nvcategory.from_strings(gdf.Product_ID.data).values()).unique().count() #hideous one-liner\n",
    "print(\"Unique Products: {}\".format(prod_count))"
   ]
  },
  {
   "cell_type": "code",
   "execution_count": null,
   "metadata": {
    "colab": {},
    "colab_type": "code",
    "id": "OzU4oqyrr9Vx"
   },
   "outputs": [],
   "source": [
    "#Let's take a look at how many primary product categories we have\n",
    "#We do it differently here because the variable is a number, not a string\n",
    "prod1_count = gdf.Product_Category_1.unique().count()\n",
    "print(\"Unique Product Categories: {}\".format(prod1_count))"
   ]
  },
  {
   "cell_type": "code",
   "execution_count": null,
   "metadata": {
    "colab": {},
    "colab_type": "code",
    "id": "7dYhrmLtr9V0"
   },
   "outputs": [],
   "source": [
    "#Filling missing values\n",
    "gdf['Product_Category_2'] = gdf['Product_Category_2'].fillna(0)"
   ]
  },
  {
   "cell_type": "code",
   "execution_count": null,
   "metadata": {
    "colab": {},
    "colab_type": "code",
    "id": "ux4s3xmqr9V2"
   },
   "outputs": [],
   "source": [
    "#EXERCISE: Make a variable that's 1 if the product is multi-category, 0 otherwise"
   ]
  },
  {
   "cell_type": "code",
   "execution_count": null,
   "metadata": {
    "colab": {},
    "colab_type": "code",
    "id": "LWLDt7DYr9V5"
   },
   "outputs": [],
   "source": [
    "#Hint: think about how to combine the Product Category 2 and Product Category 3"
   ]
  },
  {
   "cell_type": "code",
   "execution_count": null,
   "metadata": {
    "colab": {},
    "colab_type": "code",
    "id": "gYBUOUb7r9V7"
   },
   "outputs": [],
   "source": [
    "#Solution: \n",
    "<Your Code Goes Here>"
   ]
  },
  {
   "cell_type": "code",
   "execution_count": null,
   "metadata": {
    "colab": {},
    "colab_type": "code",
    "id": "jyMck4ZAr9V9"
   },
   "outputs": [],
   "source": [
    "#EXERCISE: Create a Gender/Marital Status Interaction Effect"
   ]
  },
  {
   "cell_type": "code",
   "execution_count": null,
   "metadata": {
    "colab": {},
    "colab_type": "code",
    "id": "xRPkeb9Vr9V_"
   },
   "outputs": [],
   "source": [
    "#Hint: bother Gender and Marital Status are 0/1"
   ]
  },
  {
   "cell_type": "code",
   "execution_count": null,
   "metadata": {
    "colab": {},
    "colab_type": "code",
    "id": "x6cvXYlCr9WB"
   },
   "outputs": [],
   "source": [
    "#Solution:\n",
    "<Your Code Goes Here>"
   ]
  },
  {
   "cell_type": "code",
   "execution_count": null,
   "metadata": {
    "colab": {},
    "colab_type": "code",
    "id": "e-w7YLHar9WE"
   },
   "outputs": [],
   "source": [
    "#Because Occupation is a code, it should converted into indicator variables\n",
    "gdf = gdf.one_hot_encoding('Occupation', 'occ_dummy', gdf.Occupation.unique())"
   ]
  },
  {
   "cell_type": "code",
   "execution_count": null,
   "metadata": {
    "colab": {},
    "colab_type": "code",
    "id": "FGU1TKKRr9WK"
   },
   "outputs": [],
   "source": [
    "#Dummy variable from Int\n",
    "gdf = gdf.one_hot_encoding('City_Category', 'city_cat', gdf.City_Category.unique())\n",
    "\n",
    "#Dummy from string\n",
    "cat = nvcategory.from_strings(gdf.Age.data)\n",
    "gdf['Age'] = cudf.Series(cat.values())\n",
    "gdf = gdf.one_hot_encoding('Age', 'age', gdf.Age.unique())"
   ]
  },
  {
   "cell_type": "markdown",
   "metadata": {},
   "source": [
    "#### EXERCISE: Create dummy variables from Product Category 1"
   ]
  },
  {
   "cell_type": "code",
   "execution_count": null,
   "metadata": {
    "colab": {},
    "colab_type": "code",
    "id": "OylFC4oXr9WW"
   },
   "outputs": [],
   "source": [
    "#Solution:\n",
    "<Your Code Goes Here>"
   ]
  },
  {
   "cell_type": "code",
   "execution_count": null,
   "metadata": {
    "colab": {},
    "colab_type": "code",
    "id": "5Ma7L_-br9Wc"
   },
   "outputs": [],
   "source": [
    "#We're going to drop th variables we've transformed\n",
    "drop_list = ['User_ID', 'Age', 'Stay_In_Current_City_Years', 'City_Category','Product_ID', 'Product_Category_1', 'Product_Category_2', 'Product_Category_3']\n",
    "gdf = gdf.drop(drop_list)"
   ]
  },
  {
   "cell_type": "code",
   "execution_count": null,
   "metadata": {
    "colab": {},
    "colab_type": "code",
    "id": "r0J3LCo5r9Wh"
   },
   "outputs": [],
   "source": [
    "#We're going to make a list of all the first indicator variables in a series now so it will be\n",
    "#easier to exclude them when we're doing regressions later"
   ]
  },
  {
   "cell_type": "code",
   "execution_count": null,
   "metadata": {
    "colab": {},
    "colab_type": "code",
    "id": "J2xEmiQbr9Wl"
   },
   "outputs": [],
   "source": [
    "dummy_list = ['occ_dummy_0', 'city_cat_1', 'age_0', 'product_1', 'Purchase']"
   ]
  },
  {
   "cell_type": "code",
   "execution_count": null,
   "metadata": {
    "colab": {},
    "colab_type": "code",
    "id": "6KXsM888r9Wp"
   },
   "outputs": [],
   "source": [
    "#All variables currently have to have the same type for some methods in cuML\n",
    "for col in gdf.columns.tolist():\n",
    "    gdf[col] = gdf[col].astype('float32')"
   ]
  },
  {
   "cell_type": "code",
   "execution_count": null,
   "metadata": {
    "colab": {},
    "colab_type": "code",
    "id": "hQ62_2Mcr9Ws"
   },
   "outputs": [],
   "source": [
    "test_size = round(len(gdf)*0.2)\n",
    "train_size = round(len(gdf)-test_size)"
   ]
  },
  {
   "cell_type": "code",
   "execution_count": null,
   "metadata": {
    "colab": {},
    "colab_type": "code",
    "id": "rmNl03vyr9Wu"
   },
   "outputs": [],
   "source": [
    "test = gdf.iloc[0:test_size]"
   ]
  },
  {
   "cell_type": "markdown",
   "metadata": {
    "colab": {},
    "colab_type": "code",
    "id": "wJtGGtYVr9W0"
   },
   "source": [
    "#### EXERCISE: Make the test set in a similar way"
   ]
  },
  {
   "cell_type": "code",
   "execution_count": null,
   "metadata": {
    "colab": {},
    "colab_type": "code",
    "id": "ixfu36LVr9W9"
   },
   "outputs": [],
   "source": [
    "#Solution:\n",
    "<Your Code Goes Here>"
   ]
  },
  {
   "cell_type": "code",
   "execution_count": null,
   "metadata": {
    "colab": {},
    "colab_type": "code",
    "id": "WktKtL71r9XE"
   },
   "outputs": [],
   "source": [
    "#Deleting the main gdf because we're going to be making other subsets and other stuff, so it will be nice to have the memory. \n",
    "del(gdf)"
   ]
  },
  {
   "cell_type": "code",
   "execution_count": null,
   "metadata": {
    "colab": {},
    "colab_type": "code",
    "id": "3_bs_USvr9XK"
   },
   "outputs": [],
   "source": [
    "y_train = gdf_train['Purchase']\n",
    "X_reg = gdf_train.drop(dummy_list)"
   ]
  },
  {
   "cell_type": "code",
   "execution_count": null,
   "metadata": {
    "colab": {},
    "colab_type": "code",
    "id": "EWo0VUsHr9XQ"
   },
   "outputs": [],
   "source": [
    "# # I'm going to perform a hyperparameter search for alpha in a ridge regression\n",
    "output = {}\n",
    "for alpha in np.around(np.arange(0.1, 10, 0.1), decimals=2):\n",
    "    \n",
    "    Ridge = cuml.Ridge(alpha=alpha, fit_intercept=True)\n",
    "    _fit = Ridge.fit(X_reg, y_train)\n",
    "    _y_hat = _fit.predict(X_reg)\n",
    "    _mse = sqrt((y_train.reset_index(drop=True).sub(_y_hat)**2).sum())\n",
    "    output['MSE_RIDGE_{}'.format(alpha)] = _mse\n",
    "\n",
    "print('MAX AUC: {}'.format(min(output, key=output.get)))"
   ]
  },
  {
   "cell_type": "code",
   "execution_count": null,
   "metadata": {
    "colab": {},
    "colab_type": "code",
    "id": "iUjlT1LCr9XU"
   },
   "outputs": [],
   "source": [
    "Ridge = cuml.Ridge(alpha=.1, fit_intercept=True)\n",
    "_fit = Ridge.fit(X_reg, y_train)\n",
    "_y_hat = _fit.predict(X_reg)\n",
    "_mse = sqrt((y_train.reset_index(drop=True).sub(_y_hat)**2).sum())\n",
    "print('{:,}'.format(_mse))"
   ]
  },
  {
   "cell_type": "code",
   "execution_count": null,
   "metadata": {
    "colab": {},
    "colab_type": "code",
    "id": "ZMyhm2yqr9XX"
   },
   "outputs": [],
   "source": [
    "y_train.max()"
   ]
  },
  {
   "cell_type": "code",
   "execution_count": null,
   "metadata": {
    "colab": {},
    "colab_type": "code",
    "id": "mRn00BGnr9Xa"
   },
   "outputs": [],
   "source": [
    "y_xgb = gdf_train[['Purchase']]\n",
    "X_xgb = gdf_train.drop('Purchase')\n",
    "xgb_train_set = xgb.DMatrix(data=X_xgb, label=y_xgb)"
   ]
  },
  {
   "cell_type": "code",
   "execution_count": null,
   "metadata": {
    "colab": {},
    "colab_type": "code",
    "id": "QkLqFx3cr9Xd"
   },
   "outputs": [],
   "source": [
    "xgb_params = {\n",
    "    'nround':100,\n",
    "    'max_depth':4,\n",
    "    'max_leaves':2**4,\n",
    "    'tree_method':'gpu_hist',\n",
    "    'n_gpus':1,\n",
    "    'loss':'ls',\n",
    "    'objective':'reg:squarederror',\n",
    "    'max_features':'auto',\n",
    "    'criterion':'friedman_mse',\n",
    "    'grow_policy':'lossguide',\n",
    "    'verbose':True\n",
    "}"
   ]
  },
  {
   "cell_type": "code",
   "execution_count": null,
   "metadata": {
    "colab": {},
    "colab_type": "code",
    "id": "-A7rxAhLr9Xf"
   },
   "outputs": [],
   "source": [
    "xgb_model = xgb.train(xgb_params, dtrain=xgb_train_set)"
   ]
  },
  {
   "cell_type": "code",
   "execution_count": null,
   "metadata": {
    "colab": {},
    "colab_type": "code",
    "id": "ZCqlMeiGr9Xi"
   },
   "outputs": [],
   "source": [
    "y_hat_xgb = xgb_model.predict(xgb_train_set)"
   ]
  },
  {
   "cell_type": "code",
   "execution_count": null,
   "metadata": {
    "colab": {},
    "colab_type": "code",
    "id": "dDXvzrt6r9Xl"
   },
   "outputs": [],
   "source": [
    "RMSE = np.sqrt(mean_squared_error(y_xgb['Purchase'].to_pandas(), y_hat_xgb)) #get out of sample RMSE too"
   ]
  },
  {
   "cell_type": "code",
   "execution_count": null,
   "metadata": {
    "colab": {},
    "colab_type": "code",
    "id": "t7Thzeeer9Xn"
   },
   "outputs": [],
   "source": [
    "print(RMSE)"
   ]
  },
  {
   "cell_type": "markdown",
   "metadata": {
    "colab": {},
    "colab_type": "code",
    "id": "pPINlzX3r9Xp"
   },
   "source": [
    "#### EXERCISE: Change XGB around to predict if someone is married based on the data we have. Also print the AUC"
   ]
  },
  {
   "cell_type": "code",
   "execution_count": null,
   "metadata": {
    "colab": {},
    "colab_type": "code",
    "id": "EZQZt1mgr9Xq"
   },
   "outputs": [],
   "source": [
    "#Hint: in the xgb parameters, change the objective function to 'reg:logistic'"
   ]
  },
  {
   "cell_type": "code",
   "execution_count": null,
   "metadata": {
    "colab": {},
    "colab_type": "code",
    "id": "V-ZhiewFr9Xs"
   },
   "outputs": [],
   "source": [
    "#Solution\n",
    "<Your Code Goes Here>"
   ]
  },
  {
   "cell_type": "markdown",
   "metadata": {},
   "source": [
    "#### OPTIONAL EXERCISE"
   ]
  },
  {
   "cell_type": "code",
   "execution_count": null,
   "metadata": {
    "colab": {},
    "colab_type": "code",
    "id": "zFdYUCHyr9Xu"
   },
   "outputs": [],
   "source": [
    "#EXTRA EXERCISE: Apply kNN to the customers\n",
    "#EXTRA EXERCISE: Apply PCA to data"
   ]
  },
  {
   "cell_type": "code",
   "execution_count": null,
   "metadata": {},
   "outputs": [],
   "source": []
  }
 ],
 "metadata": {
  "colab": {
   "collapsed_sections": [],
   "name": "RAPIDS 8/21 Denver Meetup tutorial- Black Friday.ipynb",
   "provenance": [],
   "version": "0.3.2"
  },
  "kernelspec": {
   "display_name": "Python 3",
   "language": "python",
   "name": "python3"
  },
  "language_info": {
   "codemirror_mode": {
    "name": "ipython",
    "version": 3
   },
   "file_extension": ".py",
   "mimetype": "text/x-python",
   "name": "python",
   "nbconvert_exporter": "python",
   "pygments_lexer": "ipython3",
   "version": "3.7.1"
  }
 },
 "nbformat": 4,
 "nbformat_minor": 1
}
