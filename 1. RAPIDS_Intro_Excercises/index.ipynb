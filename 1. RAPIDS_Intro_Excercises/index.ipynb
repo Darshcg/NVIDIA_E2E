{
 "cells": [
  {
   "cell_type": "markdown",
   "metadata": {},
   "source": [
    "<center> <h1>RAPIDS: Open GPU Data Science</h1> </center>\n",
    "<center> <h2> Introduction Excercises </h2> </center>"
   ]
  },
  {
   "cell_type": "markdown",
   "metadata": {},
   "source": [
    "This tutorial will cover the basics of Python data science on a GPU, starting from DataFrames, an overview of the RAPIDS Machine Learning capabilites, and ending with an introduction to the graph anlytics tools."
   ]
  },
  {
   "cell_type": "markdown",
   "metadata": {},
   "source": [
    "* cuDF\n",
    "  * [Intro to cuDF notebook](cudf/01-Intro%20to%20cuDF.ipynb) \n",
    "    * Exercises in notebook \n",
    "  * [cuDF User Defined Functions notebook](cudf/02-Intro%20to%20cuDF%20UDFs.ipynb) \n",
    "    * Exercises in notebook "
   ]
  },
  {
   "cell_type": "markdown",
   "metadata": {},
   "source": [
    "* cuML\n",
    "  * [Intro to cuML and SciKit Learn](cuml/01-Introduction-LinearRegression-Hyperparam.ipynb)\n",
    "    * Linear regression\n",
    "    * Ridge Regression and Hyperparameter Optimization\n",
    "  * [Logistic Regression Exercise](cuml/02-LogisticRegression.ipynb)\n",
    "  * [UMAP Data Visualization Showcase](cuml/03-UMAP.ipynb)"
   ]
  },
  {
   "cell_type": "markdown",
   "metadata": {},
   "source": [
    "* cuGraph\n",
    "  * [Intro to cuGraph notebook](cugraph/01-Intro%20to%20cuGraph.ipynb)\n",
    "  * [Louvain method for community detection](cugraph/02-Louvain.ipynb)"
   ]
  },
  {
   "cell_type": "markdown",
   "metadata": {},
   "source": [
    "### Proceed to other excersises as per your Instructor"
   ]
  }
 ],
 "metadata": {
  "kernelspec": {
   "display_name": "Python 3",
   "language": "python",
   "name": "python3"
  },
  "language_info": {
   "codemirror_mode": {
    "name": "ipython",
    "version": 3
   },
   "file_extension": ".py",
   "mimetype": "text/x-python",
   "name": "python",
   "nbconvert_exporter": "python",
   "pygments_lexer": "ipython3",
   "version": "3.6.7"
  }
 },
 "nbformat": 4,
 "nbformat_minor": 4
}
