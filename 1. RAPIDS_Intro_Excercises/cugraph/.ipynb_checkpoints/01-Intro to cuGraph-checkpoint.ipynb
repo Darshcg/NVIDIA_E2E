{
 "cells": [
  {
   "cell_type": "markdown",
   "metadata": {},
   "source": [
    "<center> <h1> Intro to cuGraph </h1> </center>"
   ]
  },
  {
   "cell_type": "markdown",
   "metadata": {},
   "source": [
    "cuGraph is a collection of graph analytics that process data found in cuDF Dataframes. cuGraph aims to provide a NetworkX-like API that will be familiar to data scientists, so they can now build GPU-accelerated workflows more easily."
   ]
  },
  {
   "cell_type": "markdown",
   "metadata": {},
   "source": [
    "### Test Data\n",
    "We will be using the Zachary Karate club dataset \n",
    "*W. W. Zachary, An information flow model for conflict and fission in small groups, Journal of\n",
    "Anthropological Research 33, 452-473 (1977).*\n",
    "\n",
    "\n",
    "![Karate Club](img/zachary_black_lines.png)"
   ]
  },
  {
   "cell_type": "markdown",
   "metadata": {},
   "source": [
    "## cuGraph 0.8 Notes\n",
    "cuGraph version 0.8 has some limitations:\n",
    "* Only Int32 Vertex ID are supported\n",
    "* Only float (FP32) edge data is supported\n",
    "* Vertex numbering is assumed to start at zero\n",
    "\n",
    "These limitations are being addressed and will be fixed future versions.  \n",
    "These example notebooks will illustrate how to manipulate the data so that it comforms to the current limitations"
   ]
  },
  {
   "cell_type": "code",
   "execution_count": 1,
   "metadata": {},
   "outputs": [],
   "source": [
    "# Import needed libraries\n",
    "import cugraph\n",
    "import cudf\n",
    "import networkx\n",
    "from collections import OrderedDict"
   ]
  },
  {
   "cell_type": "code",
   "execution_count": 4,
   "metadata": {},
   "outputs": [],
   "source": [
    "# Define the path to the test data  \n",
    "datafile='../karate-data.csv'"
   ]
  },
  {
   "cell_type": "markdown",
   "metadata": {},
   "source": [
    "---\n",
    "# NetworkX"
   ]
  },
  {
   "cell_type": "markdown",
   "metadata": {},
   "source": [
    "The data file contains an edge list, which represents the connection of a vertex to another.  The `source` to `destination` pairs is in what is known as Coordinate Format (COO).  In this test case, the data is just two columns.  However a third, `weight`, column is also possible"
   ]
  },
  {
   "cell_type": "code",
   "execution_count": 5,
   "metadata": {},
   "outputs": [],
   "source": [
    "file = open(datafile, 'rb')"
   ]
  },
  {
   "cell_type": "code",
   "execution_count": 6,
   "metadata": {},
   "outputs": [],
   "source": [
    "# Read the data, this also created a NetworkX Graph \n",
    "Gnx = networkx.read_edgelist(file)"
   ]
  },
  {
   "cell_type": "markdown",
   "metadata": {},
   "source": [
    "# cuGraph"
   ]
  },
  {
   "cell_type": "markdown",
   "metadata": {},
   "source": [
    "### Read in the data - GPU\n",
    "cuGraph depends on cuDF for data loading and the initial Dataframe creation"
   ]
  },
  {
   "cell_type": "code",
   "execution_count": 7,
   "metadata": {},
   "outputs": [],
   "source": [
    "# Read the data file\n",
    "cols = [\"src\", \"dst\"]\n",
    "\n",
    "dtypes = OrderedDict([\n",
    "        (\"src\", \"int32\"), \n",
    "        (\"dst\", \"int32\")\n",
    "        ])\n",
    "\n",
    "gdf = cudf.read_csv(datafile, names=cols, delimiter='\\t', dtype=list(dtypes.values()) )"
   ]
  },
  {
   "cell_type": "markdown",
   "metadata": {},
   "source": [
    "### Create a Graph "
   ]
  },
  {
   "cell_type": "code",
   "execution_count": 8,
   "metadata": {},
   "outputs": [],
   "source": [
    "# create a Graph using the source (src) and destination (dst) vertex pairs from the Dataframe \n",
    "G = cugraph.Graph()\n",
    "G.add_edge_list(gdf[\"src\"], gdf[\"dst\"])"
   ]
  },
  {
   "cell_type": "markdown",
   "metadata": {},
   "source": [
    "## Basic operations"
   ]
  },
  {
   "cell_type": "markdown",
   "metadata": {},
   "source": [
    "We can see the total number of edges and vertices in G."
   ]
  },
  {
   "cell_type": "code",
   "execution_count": 9,
   "metadata": {},
   "outputs": [
    {
     "data": {
      "text/plain": [
       "156"
      ]
     },
     "execution_count": 9,
     "metadata": {},
     "output_type": "execute_result"
    }
   ],
   "source": [
    "G.number_of_edges()"
   ]
  },
  {
   "cell_type": "code",
   "execution_count": 10,
   "metadata": {},
   "outputs": [
    {
     "data": {
      "text/plain": [
       "35"
      ]
     },
     "execution_count": 10,
     "metadata": {},
     "output_type": "execute_result"
    }
   ],
   "source": [
    "G.number_of_vertices()"
   ]
  },
  {
   "cell_type": "markdown",
   "metadata": {},
   "source": [
    "Most methods on `cugraph.Graph` return cudf DataFrame objects."
   ]
  },
  {
   "cell_type": "markdown",
   "metadata": {},
   "source": [
    "`in_degree` and `out_degree` are the number of edges going in and out of a given vertex, respectively. `degree` is the `in_degree` plus the `out_degree`."
   ]
  },
  {
   "cell_type": "code",
   "execution_count": 11,
   "metadata": {},
   "outputs": [
    {
     "name": "stdout",
     "output_type": "stream",
     "text": [
      "    vertex  degree\n",
      "0        0       0\n",
      "1        1      16\n",
      "2        2       9\n",
      "3        3      10\n",
      "4        4       6\n",
      "5        5       3\n",
      "6        6       4\n",
      "7        7       4\n",
      "8        8       4\n",
      "9        9       5\n",
      "10      10       2\n",
      "11      11       3\n",
      "12      12       1\n",
      "13      13       2\n",
      "14      14       5\n",
      "15      15       2\n",
      "16      16       2\n",
      "17      17       2\n",
      "18      18       2\n",
      "19      19       2\n",
      "20      20       3\n",
      "21      21       2\n",
      "22      22       2\n",
      "23      23       2\n",
      "24      24       5\n",
      "25      25       3\n",
      "26      26       3\n",
      "27      27       2\n",
      "28      28       4\n",
      "29      29       3\n",
      "30      30       4\n",
      "31      31       4\n",
      "32      32       6\n",
      "33      33      12\n",
      "34      34      17\n"
     ]
    }
   ],
   "source": [
    "print(G.in_degree())"
   ]
  },
  {
   "cell_type": "code",
   "execution_count": 12,
   "metadata": {},
   "outputs": [
    {
     "name": "stdout",
     "output_type": "stream",
     "text": [
      "    vertex  degree\n",
      "0        0       0\n",
      "1        1      16\n",
      "2        2       9\n",
      "3        3      10\n",
      "4        4       6\n",
      "5        5       3\n",
      "6        6       4\n",
      "7        7       4\n",
      "8        8       4\n",
      "9        9       5\n",
      "10      10       2\n",
      "11      11       3\n",
      "12      12       1\n",
      "13      13       2\n",
      "14      14       5\n",
      "15      15       2\n",
      "16      16       2\n",
      "17      17       2\n",
      "18      18       2\n",
      "19      19       2\n",
      "20      20       3\n",
      "21      21       2\n",
      "22      22       2\n",
      "23      23       2\n",
      "24      24       5\n",
      "25      25       3\n",
      "26      26       3\n",
      "27      27       2\n",
      "28      28       4\n",
      "29      29       3\n",
      "30      30       4\n",
      "31      31       4\n",
      "32      32       6\n",
      "33      33      12\n",
      "34      34      17\n"
     ]
    }
   ],
   "source": [
    "print(G.out_degree())"
   ]
  },
  {
   "cell_type": "code",
   "execution_count": 13,
   "metadata": {},
   "outputs": [
    {
     "name": "stdout",
     "output_type": "stream",
     "text": [
      "    vertex  degree\n",
      "0        0       0\n",
      "1        1      32\n",
      "2        2      18\n",
      "3        3      20\n",
      "4        4      12\n",
      "5        5       6\n",
      "6        6       8\n",
      "7        7       8\n",
      "8        8       8\n",
      "9        9      10\n",
      "10      10       4\n",
      "11      11       6\n",
      "12      12       2\n",
      "13      13       4\n",
      "14      14      10\n",
      "15      15       4\n",
      "16      16       4\n",
      "17      17       4\n",
      "18      18       4\n",
      "19      19       4\n",
      "20      20       6\n",
      "21      21       4\n",
      "22      22       4\n",
      "23      23       4\n",
      "24      24      10\n",
      "25      25       6\n",
      "26      26       6\n",
      "27      27       4\n",
      "28      28       8\n",
      "29      29       6\n",
      "30      30       8\n",
      "31      31       8\n",
      "32      32      12\n",
      "33      33      24\n",
      "34      34      34\n"
     ]
    }
   ],
   "source": [
    "print(G.degree())"
   ]
  },
  {
   "cell_type": "markdown",
   "metadata": {},
   "source": [
    "### **Exercise**\n",
    "\n",
    "Show that the `in_degree` plus the `out_degree` is indeed the same as the `degree`. \n",
    "\n",
    "<details><summary><b>Solution</b></summary>\n",
    "   <pre>\n",
    "    <br>(G.in_degree() + G.out_degree())['degree'].equals(G.degree()['degree'])\n",
    "   </pre>\n",
    "</details>"
   ]
  },
  {
   "cell_type": "code",
   "execution_count": null,
   "metadata": {},
   "outputs": [],
   "source": []
  }
 ],
 "metadata": {
  "kernelspec": {
   "display_name": "Python 3",
   "language": "python",
   "name": "python3"
  },
  "language_info": {
   "codemirror_mode": {
    "name": "ipython",
    "version": 3
   },
   "file_extension": ".py",
   "mimetype": "text/x-python",
   "name": "python",
   "nbconvert_exporter": "python",
   "pygments_lexer": "ipython3",
   "version": "3.6.7"
  }
 },
 "nbformat": 4,
 "nbformat_minor": 4
}
