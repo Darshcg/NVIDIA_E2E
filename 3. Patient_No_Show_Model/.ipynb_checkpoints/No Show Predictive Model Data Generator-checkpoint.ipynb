{
 "cells": [
  {
   "cell_type": "markdown",
   "metadata": {},
   "source": [
    "<h1 align=center>Accelerated Data Science Workflows with RAPIDS</h1>\n",
    "<h2 align=center># No Show Predictive Model Data Generator #</h2>\n",
    "\n",
    "Model to predict if a patient is likely to either NO SHOW or be significantly late for a doctor's appointment. "
   ]
  },
  {
   "cell_type": "markdown",
   "metadata": {},
   "source": [
    "## Imports"
   ]
  },
  {
   "cell_type": "code",
   "execution_count": 1,
   "metadata": {},
   "outputs": [],
   "source": [
    "import sys\n",
    "import numpy as np\n",
    "import scipy.stats as stats\n",
    "import pandas as pd\n",
    "\n",
    "import cudf\n",
    "\n",
    "\n",
    "\n",
    "import dask\n",
    "import numba\n",
    "\n",
    "from timeit import default_timer\n",
    "\n",
    "class Timer(object):\n",
    "    \"\"\"Timer class.\n",
    "    Examples:\n",
    "        >>> big_num = 100000\n",
    "        >>> t = Timer()\n",
    "        >>> t.start()\n",
    "        >>> for i in range(big_num):\n",
    "        >>>     r = 1\n",
    "        >>> t.stop()\n",
    "        >>> print(t.interval)\n",
    "        0.0946876304844\n",
    "        >>> with Timer() as t:\n",
    "        >>>     for i in range(big_num):\n",
    "        >>>         r = 1\n",
    "        >>> print(t.interval)\n",
    "        0.0766928562442\n",
    "        >>> try:\n",
    "        >>>     with Timer() as t:\n",
    "        >>>         for i in range(big_num):\n",
    "        >>>             r = 1\n",
    "        >>>             raise(Exception(\"Get out!\"))\n",
    "        >>> finally:\n",
    "        >>>     print(t.interval)\n",
    "        0.0757778924471\n",
    "\n",
    "    \"\"\"\n",
    "    def __init__(self):\n",
    "        self._timer = default_timer\n",
    "    \n",
    "    def __enter__(self):\n",
    "        self.start()\n",
    "        return self\n",
    "\n",
    "    def __exit__(self, *args):\n",
    "        self.stop()\n",
    "\n",
    "    def start(self):\n",
    "        \"\"\"Start the timer.\"\"\"\n",
    "        self.start = self._timer()\n",
    "\n",
    "    def stop(self):\n",
    "        \"\"\"Stop the timer. Calculate the interval in seconds.\"\"\"\n",
    "        self.end = self._timer()\n",
    "        self.interval = self.end - self.start\n",
    "\n",
    "        \n",
    "\n",
    "# Label Encoder Class\n",
    "        \n",
    "import cudf\n",
    "import nvcategory\n",
    "\n",
    "from librmm_cffi import librmm\n",
    "import numpy as np\n",
    "\n",
    "\n",
    "def _enforce_str(y: cudf.Series) -> cudf.Series:\n",
    "    if y.dtype != \"object\":\n",
    "        return y.astype(\"str\")\n",
    "    return y\n",
    "\n",
    "\n",
    "class Base(object):\n",
    "    def __init__(self, *args, **kwargs):\n",
    "        self._fitted = False\n",
    "\n",
    "    def check_is_fitted(self):\n",
    "        if not self._fitted:\n",
    "            raise TypeError(\"Model must first be .fit()\")\n",
    "\n",
    "\n",
    "import cudf\n",
    "import nvcategory\n",
    "\n",
    "from librmm_cffi import librmm\n",
    "import numpy as np\n",
    "\n",
    "\n",
    "def _enforce_str(y: cudf.Series) -> cudf.Series:\n",
    "    if y.dtype != \"object\":\n",
    "        return y.astype(\"str\")\n",
    "    return y\n",
    "\n",
    "\n",
    "class Base(object):\n",
    "    def __init__(self, *args, **kwargs):\n",
    "        self._fitted = False\n",
    "\n",
    "    def check_is_fitted(self):\n",
    "        if not self._fitted:\n",
    "            raise TypeError(\"Model must first be .fit()\")\n",
    "\n",
    "\n",
    "class LabelEncoder(Base):\n",
    "    def __init__(self, *args, **kwargs):\n",
    "        super().__init__(*args, **kwargs)\n",
    "        self._cats: nvcategory.nvcategory = None\n",
    "        self._dtype = None\n",
    "\n",
    "    def fit(self, y: cudf.Series) -> \"LabelEncoder\":\n",
    "        self._dtype = y.dtype\n",
    "        y = _enforce_str(y)\n",
    "\n",
    "        self._cats = nvcategory.from_strings(y.data)\n",
    "        self._fitted = True\n",
    "        return self\n",
    "\n",
    "    def transform(self, y: cudf.Series) -> cudf.Series:\n",
    "        self.check_is_fitted()\n",
    "        y = _enforce_str(y)\n",
    "        encoded = cudf.Series(\n",
    "            nvcategory.from_strings(y.data)\n",
    "            .set_keys(self._cats.keys())\n",
    "            .values()\n",
    "        )\n",
    "        if -1 in encoded:\n",
    "            raise KeyError(\"Attempted to encode unseen key\")\n",
    "        return encoded\n",
    "\n",
    "    def fit_transform(self, y: cudf.Series) -> cudf.Series:\n",
    "        self._dtype = y.dtype\n",
    "        y = _enforce_str(y)\n",
    "        self._cats = nvcategory.from_strings(y.data)\n",
    "        self._fitted = True\n",
    "        arr: librmm.device_array = librmm.device_array(\n",
    "            y.data.size(), dtype=np.int32\n",
    "        )\n",
    "        self._cats.values(devptr=arr.device_ctypes_pointer.value)\n",
    "        return cudf.Series(arr)\n",
    "\n",
    "    def inverse_transform(self, y: cudf.Series):\n",
    "        raise NotImplementedError\n",
    "        \n",
    "# Given a cudf string column, returns the unique values\n",
    "def get_unique_strings(ds):\n",
    "    c = nvcategory.from_strings(ds.data)\n",
    "    return c\n",
    "        "
   ]
  },
  {
   "cell_type": "markdown",
   "metadata": {},
   "source": [
    "## Function and Variable Definitions"
   ]
  },
  {
   "cell_type": "code",
   "execution_count": 2,
   "metadata": {},
   "outputs": [
    {
     "name": "stdout",
     "output_type": "stream",
     "text": [
      "1.8 million doctor visits\n"
     ]
    }
   ],
   "source": [
    "# Parmeters that can be used to control the size of this synthetic dataset\n",
    "num_departments = 12\n",
    "num_providers_per_department = 10\n",
    "num_appts_per_day = 20\n",
    "num_working_days_year = 50 * 5\n",
    "num_lookback_years = 3\n",
    "num_samples = num_departments * num_providers_per_department * num_appts_per_day * num_working_days_year * num_lookback_years\n",
    "print(num_samples/1E6, 'million doctor visits')"
   ]
  },
  {
   "cell_type": "code",
   "execution_count": 3,
   "metadata": {},
   "outputs": [],
   "source": [
    "features = [\n",
    "    'AGE', 'GENDER', 'INSURANCE', 'VISIT_TYPE', 'DEPT_SPECIALTY', 'DEPT_ID', \n",
    "    'NO_SHOW_RATE', 'LATE_START_RATE',\n",
    "    'APPT_WEEKDAY', 'APPT_TIME', 'DAY', 'MONTH',\n",
    "    'ZIPCODE', 'DISTANCE_FROM_CLINIC', 'PREDICTED_ADVERSE_WEATHER', 'ACTUAL_ADVERSE_WEATHER']"
   ]
  },
  {
   "cell_type": "code",
   "execution_count": 4,
   "metadata": {},
   "outputs": [],
   "source": [
    "gender_dict = {\n",
    "    1: 'MALE',\n",
    "    2: 'FEMALE', \n",
    "    3: 'OTHER', \n",
    "    4: 'UNKNOWN'\n",
    "}\n",
    "genders = list(gender_dict.values())"
   ]
  },
  {
   "cell_type": "code",
   "execution_count": 5,
   "metadata": {},
   "outputs": [],
   "source": [
    "insurance_dict = {\n",
    "    1: 'MEDICARE', \n",
    "    2: 'MEDICAID',\n",
    "    3: 'EMPLOYER', \n",
    "    4: 'PRIVATE', \n",
    "    5: 'OTHER'\n",
    "}\n",
    "\n",
    "insurances = list(insurance_dict.values())"
   ]
  },
  {
   "cell_type": "code",
   "execution_count": 6,
   "metadata": {},
   "outputs": [],
   "source": [
    "visit_type_dict = {\n",
    "    1: 'Office_Visit', \n",
    "    2: 'MRI', \n",
    "    3: 'CT', \n",
    "    4: 'Physical_Exam', \n",
    "    5: 'Flu_Clinic', \n",
    "    6: 'OP_Procedure', \n",
    "    7: 'PT', \n",
    "    8: 'OTHER'\n",
    "}\n",
    "visit_types = list(visit_type_dict.values())"
   ]
  },
  {
   "cell_type": "code",
   "execution_count": 7,
   "metadata": {},
   "outputs": [],
   "source": [
    "dept_specialty_dict = {\n",
    "    1: 'PRIMARY_CARE',\n",
    "    2: 'RADIOLOGY', \n",
    "    3: 'ONCOLOGY', \n",
    "    4: 'PEDIATRICS', \n",
    "    5: 'CARDIOLOGY', \n",
    "    6: 'NEUROLOGY', \n",
    "    7: 'URGENT_CARE', \n",
    "    8: 'GI', \n",
    "    9: 'UROLOGY',\n",
    "    10: 'DERMATOLOGY', \n",
    "    11: 'PULMONOLOGY', \n",
    "    12: 'ENDOCRINOLOGY', \n",
    "    13: 'PYSCHIATRY', \n",
    "    14: 'OBGYN', \n",
    "    15: 'ORTHO', \n",
    "    16: 'INTERNAL_MEDICINE', \n",
    "    17: 'PT', \n",
    "    18: 'OTHER'\n",
    "}\n",
    "dept_specialties = list(dept_specialty_dict.values())"
   ]
  },
  {
   "cell_type": "code",
   "execution_count": 8,
   "metadata": {},
   "outputs": [],
   "source": [
    "departments = [dep for dep in range(1, num_departments+1)]"
   ]
  },
  {
   "cell_type": "code",
   "execution_count": 9,
   "metadata": {},
   "outputs": [],
   "source": [
    "weekday_dict= {\n",
    "    1: 'MON', \n",
    "    2: 'TUE', \n",
    "    3: 'WED', \n",
    "    4: 'THU', \n",
    "    5: 'FRI'\n",
    "}\n",
    "weekdays = list(weekday_dict.values())"
   ]
  },
  {
   "cell_type": "code",
   "execution_count": 10,
   "metadata": {},
   "outputs": [],
   "source": [
    "appt_times = [x/100 for x in range(800, 1850, 50)]\n",
    "days = [d for d in range(1, 29)]\n",
    "months = [m for m in range(1, 13)]\n",
    "zipcodes = [z for z in range(90001, 96162)] # Roughly maps to CA"
   ]
  },
  {
   "cell_type": "code",
   "execution_count": 11,
   "metadata": {},
   "outputs": [],
   "source": [
    "# Top Appointment Reasons\n",
    "appt_reason_dict = {\n",
    "    1: 'Skin', \n",
    "    2: 'Joint', \n",
    "    3: 'Back', \n",
    "    4: 'Cholesterol', \n",
    "    5: 'Respiratory',\n",
    "    6: 'Mental_Health', \n",
    "    7: 'Neurologic', \n",
    "    8: 'BP', \n",
    "    9: 'Headache', \n",
    "    10: 'Diabetes', \n",
    "    11: 'Other'\n",
    "}\n",
    "appt_reasons = list(appt_reason_dict.values())\n",
    "appt_reason_features = ['APPT_REASON_' + str(rsn) for rsn in  appt_reasons]\n",
    "features += appt_reason_features"
   ]
  },
  {
   "cell_type": "code",
   "execution_count": 12,
   "metadata": {},
   "outputs": [],
   "source": [
    "# Top Health Issues\n",
    "health_issue_dict = {\n",
    "    1: 'Heart_Disease', \n",
    "    2: 'Cancer', \n",
    "    3: 'Stroke', \n",
    "    4: 'Respiratory_Disease', \n",
    "    5: 'Injuries',\n",
    "    6: 'Diabetes', \n",
    "    7: 'Alzheimers', \n",
    "    8: 'Pneumonia', \n",
    "    9: 'Kidney_Disease', \n",
    "    10: 'Mental_Health', \n",
    "    11: 'Pregnancy', \n",
    "    12: 'Other'\n",
    "}\n",
    "health_issues = list(health_issue_dict.values())\n",
    "health_issue_features = ['HEALTH_ISSUE_' + str(iss) for iss in  health_issues]\n",
    "\n",
    "features += health_issue_features"
   ]
  },
  {
   "cell_type": "code",
   "execution_count": 13,
   "metadata": {},
   "outputs": [],
   "source": [
    "def generate_features():\n",
    "    gdf = cudf.DataFrame()\n",
    "    binary_choice = [1, 0]\n",
    "    gdf['AGE'] = np.random.randint(1,100, size=(num_samples,))\n",
    "    gdf['GENDER'] = np.random.choice(genders, size=num_samples, p=[0.45, 0.45, 0.05, 0.05])\n",
    "    gdf['INSURANCE'] = np.random.choice(insurances, size=num_samples, p=[0.15, 0.15, 0.50, 0.15, 0.05])\n",
    "    gdf['VISIT_TYPE'] = np.random.choice(visit_types, size=num_samples, p=[0.45, 0.05, 0.05, 0.05, 0.2, 0.1, 0.05, 0.05])\n",
    "    gdf['DEPT_SPECIALTY'] = np.random.choice(dept_specialties, size=num_samples)\n",
    "    gdf['DEPT_ID'] = np.random.choice(departments, size=num_samples)\n",
    "    gdf['APPT_WEEKDAY'] = np.random.choice(weekdays, size=num_samples)\n",
    "    gdf['APPT_TIME'] = np.random.choice(appt_times, size=num_samples)\n",
    "    gdf['DAY'] = np.random.choice(days, size=num_samples)\n",
    "    gdf['MONTH'] = np.random.choice(months, size=num_samples)\n",
    "    \n",
    "    # Created a truncated normal distribution for distance from clinic\n",
    "    lower, upper = 0, 20\n",
    "    mu, sigma = 3, 3\n",
    "    X = stats.truncnorm((lower - mu) / sigma, (upper - mu) / sigma, loc=mu, scale=sigma)\n",
    "    gdf['DISTANCE_FROM_CLINIC'] = X.rvs(num_samples)\n",
    "    gdf['DISTANCE_FROM_CLINIC'] = gdf['DISTANCE_FROM_CLINIC'].astype('int8')\n",
    "    \n",
    "    gdf['PREDICTED_ADVERSE_WEATHER'] = np.random.choice(binary_choice, size=num_samples, p=[0.1, 0.9])\n",
    "    gdf['ACTUAL_ADVERSE_WEATHER'] = np.random.choice(binary_choice, size=num_samples, p=[0.1, 0.9])\n",
    "    \n",
    "    # Generate some socio-economic features in a separate zipcode dataframe\n",
    "    gdf['ZIPCODE'] = np.random.choice(zipcodes, size=num_samples)\n",
    "    zipcode_gdf = cudf.DataFrame()\n",
    "    zipcode_gdf['ZIPCODE'] = zipcodes\n",
    "    zipcode_gdf['ACCESS_TO_TRANSPORTATION'] = np.random.choice(binary_choice, size=len(zipcodes), p=[0.9, 0.1])\n",
    "\n",
    "    \n",
    "    # Special handling for categorical data that's multiple response\n",
    "    gdf['APPT_REASON_Skin'] = np.random.choice(binary_choice, size=num_samples, p=[0.43, 0.57])\n",
    "    gdf['APPT_REASON_Joint'] = np.random.choice(binary_choice, size=num_samples, p=[0.34, 0.66])\n",
    "    gdf['APPT_REASON_Back'] = np.random.choice(binary_choice, size=num_samples, p=[0.24, 0.76])\n",
    "    gdf['APPT_REASON_Cholesterol'] = np.random.choice(binary_choice, size=num_samples, p=[0.22, 0.78])\n",
    "    gdf['APPT_REASON_Respiratory'] = np.random.choice(binary_choice, size=num_samples, p=[0.22, 0.78])\n",
    "    gdf['APPT_REASON_Mental_Health'] = np.random.choice(binary_choice, size=num_samples, p=[0.1, 0.9])\n",
    "    gdf['APPT_REASON_Neurologic'] = np.random.choice(binary_choice, size=num_samples, p=[0.1, 0.9])\n",
    "    gdf['APPT_REASON_BP'] = np.random.choice(binary_choice, size=num_samples, p=[0.1, 0.9])\n",
    "    gdf['APPT_REASON_Headache'] = np.random.choice(binary_choice, size=num_samples, p=[0.1, 0.9])\n",
    "    gdf['APPT_REASON_Diabetes'] = np.random.choice(binary_choice, size=num_samples, p=[0.1, 0.9])\n",
    "    gdf['APPT_REASON_Other'] = np.random.choice(binary_choice, size=num_samples, p=[0.3, 0.7])\n",
    "\n",
    "    gdf['HEALTH_ISSUE_Heart_Disease'] = np.random.choice(binary_choice, size=num_samples, p=[0.2, 0.8])\n",
    "    gdf['HEALTH_ISSUE_Cancer'] = np.random.choice(binary_choice, size=num_samples, p=[0.1, 0.9])\n",
    "    gdf['HEALTH_ISSUE_Stroke'] = np.random.choice(binary_choice, size=num_samples, p=[0.05, 0.95])\n",
    "    gdf['HEALTH_ISSUE_Respiratory_Disease'] = np.random.choice(binary_choice, size=num_samples, p=[0.1, 0.9])\n",
    "    gdf['HEALTH_ISSUE_Injuries'] = np.random.choice(binary_choice, size=num_samples, p=[0.2, 0.8])\n",
    "    gdf['HEALTH_ISSUE_Diabetes'] = np.random.choice(binary_choice, size=num_samples, p=[0.2, 0.8])\n",
    "    gdf['HEALTH_ISSUE_Alzheimers'] = np.random.choice(binary_choice, size=num_samples, p=[0.1, 0.9])\n",
    "    gdf['HEALTH_ISSUE_Pneumonia'] = np.random.choice(binary_choice, size=num_samples, p=[0.1, 0.9])\n",
    "    gdf['HEALTH_ISSUE_Kidney_Disease'] = np.random.choice(binary_choice, size=num_samples, p=[0.05, 0.95])\n",
    "    gdf['HEALTH_ISSUE_Mental_Health'] = np.random.choice(binary_choice, size=num_samples, p=[0.2, 0.8])\n",
    "    gdf['HEALTH_ISSUE_Other'] = np.random.choice(binary_choice, size=num_samples, p=[0.3, 0.7])\n",
    "    \n",
    "\n",
    "    # Create a Pregnancy feature using Gender and a pregnancy probability\n",
    "    # Since we don't support string values in lambda functions, label encode gender first\n",
    "    le = LabelEncoder()\n",
    "    gdf['GENDER_CODE'] = le.fit_transform(gdf['GENDER'])\n",
    "    \n",
    "    # Double the probability of what I actually want, since I'll be splitting it by half between male & female.\n",
    "    gdf['PREG_PROBABILITY'] = np.random.choice([1, 0], size=num_samples, p=[0.2, 0.8])\n",
    "\n",
    "    def preg_kernel(GENDER_CODE, PREG_PROBABILITY, HEALTH_ISSUE_Pregnancy, kwarg1):\n",
    "        for i, (gender_code, preg_probability) in enumerate(zip(GENDER_CODE, PREG_PROBABILITY)):\n",
    "            preg_val = 0\n",
    "            if (gender_code == 2):\n",
    "                preg_val = preg_probability\n",
    "            HEALTH_ISSUE_Pregnancy[i] = preg_val        \n",
    "    \n",
    "    gdf = gdf.apply_rows(preg_kernel,\n",
    "              incols=['GENDER_CODE', 'PREG_PROBABILITY'],\n",
    "               outcols=dict(HEALTH_ISSUE_Pregnancy=np.int),\n",
    "               kwargs=dict(kwarg1=1)\n",
    "              )\n",
    "    gdf.drop_column('PREG_PROBABILITY')\n",
    "    \n",
    "    gdf['NO_SHOW_RATE'] = np.random.choice([0, 0.2, 0.4, 0.6, 0.8, 1.0 ], size=num_samples, p=[0.5, 0.2, 0.15, 0.1, 0.05, 0])\n",
    "    gdf['LATE_START_RATE'] = np.random.choice([0, 0.2, 0.4, 0.6, 0.8, 1.0 ], size=num_samples, p=[0.2, 0.4, 0.2, 0.1, 0.05, 0.05])\n",
    "\n",
    "    # Create a column for noise\n",
    "    gdf['NOISE'] = np.random.ranf(size=num_samples)\n",
    "    \n",
    "    return gdf, zipcode_gdf"
   ]
  },
  {
   "cell_type": "code",
   "execution_count": 14,
   "metadata": {},
   "outputs": [],
   "source": [
    "# Generate labels using cuDF\n",
    "def generate_labels(AGE, GENDER_CODE, NO_SHOW_RATE, LATE_START_RATE, \\\n",
    "           DISTANCE_FROM_CLINIC, ACCESS_TO_TRANSPORTATION, DAY, MONTH, \\\n",
    "           HEALTH_ISSUE_Mental_Health, DEPT_ID, NOISE,\\\n",
    "           LABEL, kwarg1):\n",
    "    for i, (age, gender_code, no_show_rate, late_start_rate, \\\n",
    "            distance_from_clinic, access_to_transportation, day, month, \\\n",
    "            health_issue_mental_health, dept_id, noise) \\\n",
    "        in enumerate(zip(AGE, GENDER_CODE, NO_SHOW_RATE, LATE_START_RATE, \\\n",
    "                         DISTANCE_FROM_CLINIC, ACCESS_TO_TRANSPORTATION, DAY, MONTH, \\\n",
    "                         HEALTH_ISSUE_Mental_Health, DEPT_ID, NOISE)):\n",
    "\n",
    "        prob = 0\n",
    "        \n",
    "        if (age>=18) and (age<30) and (gender_code==1):\n",
    "            prob += 0.1\n",
    "        if (age>=30) and (age<40) and (distance_from_clinic>=3) and (distance_from_clinic<6):\n",
    "            prob += 0.1\n",
    "        if access_to_transportation == 0:\n",
    "            prob += 0.1\n",
    "        if no_show_rate > 0.2 or late_start_rate > 0.6:\n",
    "            prob += 0.1\n",
    "        if health_issue_mental_health == 1:\n",
    "            prob += 0.1\n",
    "        if (dept_id==2) or (dept_id==3) or (dept_id==5) or (dept_id==7):\n",
    "            prob += 0.1\n",
    "        \n",
    "        holiday_week = 0\n",
    "        if (month==5 and day>24) \\\n",
    "            or (month==7 and day<8) \\\n",
    "            or (month==9 and day<8) \\\n",
    "            or (month==12 and day>21) \\\n",
    "            or (month==1 and day<3):  \\\n",
    "            holiday_week = 1\n",
    "            \n",
    "        if (holiday_week==1):\n",
    "            prob += 0.2\n",
    "        \n",
    "        # Add some noise\n",
    "        prob = prob + (0.33 * noise)\n",
    "        \n",
    "        if prob > 0.5:\n",
    "            prob = 1\n",
    "        else:\n",
    "            prob = 0\n",
    "        \n",
    "        LABEL[i] = prob"
   ]
  },
  {
   "cell_type": "markdown",
   "metadata": {},
   "source": [
    "## Generate Features and Labels"
   ]
  },
  {
   "cell_type": "code",
   "execution_count": 15,
   "metadata": {},
   "outputs": [],
   "source": [
    "gdf, zipcode_gdf = generate_features()"
   ]
  },
  {
   "cell_type": "code",
   "execution_count": 18,
   "metadata": {},
   "outputs": [],
   "source": [
    "gdf = gdf.merge(zipcode_gdf, how=\"left\", on=['ZIPCODE'])"
   ]
  },
  {
   "cell_type": "code",
   "execution_count": 19,
   "metadata": {},
   "outputs": [],
   "source": [
    "gdf = gdf.apply_rows(generate_labels,\n",
    "              incols=['AGE', 'GENDER_CODE', 'NO_SHOW_RATE', 'LATE_START_RATE', \n",
    "                      'DISTANCE_FROM_CLINIC', 'ACCESS_TO_TRANSPORTATION', 'DAY', 'MONTH', \\\n",
    "                      'HEALTH_ISSUE_Mental_Health', 'DEPT_ID', 'NOISE'],\n",
    "               outcols=dict(LABEL=np.int),\n",
    "               kwargs=dict(kwarg1=1)\n",
    "              )    \n",
    "\n",
    "# Remove column so that you can save it with just zipcode info\n",
    "gdf.drop_column('ACCESS_TO_TRANSPORTATION')\n",
    "\n",
    "# Take out the encoded column and just leave the string one\n",
    "gdf.drop_column('GENDER_CODE')\n",
    "\n",
    "# Remove noise column\n",
    "gdf.drop_column('NOISE')"
   ]
  },
  {
   "cell_type": "code",
   "execution_count": 20,
   "metadata": {},
   "outputs": [
    {
     "name": "stdout",
     "output_type": "stream",
     "text": [
      "Samples: 1.8 million\n",
      "Features + Label: 40\n",
      "Dataset size: 0.5 GB\n"
     ]
    }
   ],
   "source": [
    "print(\"Samples: {:.1f} million\".format(len(gdf)/1E6))\n",
    "print(\"Features + Label:\", len(gdf.columns.tolist()))\n",
    "print(\"Dataset size: {:.1f} GB\".format(sys.getsizeof(gdf)/1E9))"
   ]
  },
  {
   "cell_type": "code",
   "execution_count": 21,
   "metadata": {},
   "outputs": [
    {
     "name": "stdout",
     "output_type": "stream",
     "text": [
      "   AGE  GENDER INSURANCE     VISIT_TYPE DEPT_SPECIALTY  DEPT_ID APPT_WEEKDAY  \\\n",
      "0   71    MALE  MEDICAID          OTHER    DERMATOLOGY       11          FRI   \n",
      "1   10  FEMALE  EMPLOYER   OP_Procedure          OTHER        2          WED   \n",
      "2   65  FEMALE   PRIVATE   OP_Procedure             PT        6          MON   \n",
      "3   41  FEMALE  MEDICAID  Physical_Exam      RADIOLOGY        6          THU   \n",
      "4   75  FEMALE   PRIVATE     Flu_Clinic          OBGYN        7          WED   \n",
      "\n",
      "   APPT_TIME  DAY  MONTH  ...  HEALTH_ISSUE_Diabetes  HEALTH_ISSUE_Alzheimers  \\\n",
      "0       12.5    1      2  ...                      0                        0   \n",
      "1       16.5    7     12  ...                      0                        1   \n",
      "2        9.5    1     12  ...                      0                        0   \n",
      "3       16.5   19      3  ...                      0                        1   \n",
      "4       11.0   13      4  ...                      0                        0   \n",
      "\n",
      "   HEALTH_ISSUE_Pneumonia  HEALTH_ISSUE_Kidney_Disease  \\\n",
      "0                       0                            0   \n",
      "1                       0                            0   \n",
      "2                       0                            0   \n",
      "3                       0                            0   \n",
      "4                       0                            0   \n",
      "\n",
      "   HEALTH_ISSUE_Mental_Health  HEALTH_ISSUE_Other  HEALTH_ISSUE_Pregnancy  \\\n",
      "0                           0                   1                       0   \n",
      "1                           0                   0                       0   \n",
      "2                           0                   0                       0   \n",
      "3                           0                   1                       0   \n",
      "4                           0                   1                       0   \n",
      "\n",
      "   NO_SHOW_RATE  LATE_START_RATE  LABEL  \n",
      "0           0.0              0.4      0  \n",
      "1           0.4              0.4      0  \n",
      "2           0.0              0.2      0  \n",
      "3           0.0              0.4      0  \n",
      "4           0.0              0.6      0  \n",
      "\n",
      "[5 rows x 40 columns]\n"
     ]
    }
   ],
   "source": [
    "print(gdf.head())"
   ]
  },
  {
   "cell_type": "markdown",
   "metadata": {},
   "source": [
    "## Save Dataframes to CSV"
   ]
  },
  {
   "cell_type": "code",
   "execution_count": 22,
   "metadata": {},
   "outputs": [],
   "source": [
    "# Convert to pandas and save it off for reuse\n",
    "pdf = gdf.to_pandas()\n",
    "zipcode_pdf = zipcode_gdf.to_pandas()"
   ]
  },
  {
   "cell_type": "code",
   "execution_count": 23,
   "metadata": {},
   "outputs": [
    {
     "data": {
      "text/plain": [
       "0    MEDICAID\n",
       "1    EMPLOYER\n",
       "2     PRIVATE\n",
       "3    MEDICAID\n",
       "4     PRIVATE\n",
       "5    EMPLOYER\n",
       "6    EMPLOYER\n",
       "7    EMPLOYER\n",
       "8    EMPLOYER\n",
       "9     PRIVATE\n",
       "Name: INSURANCE, dtype: object"
      ]
     },
     "execution_count": 23,
     "metadata": {},
     "output_type": "execute_result"
    }
   ],
   "source": [
    "# Add a few nulls\n",
    "pdf['INSURANCE'] = pdf['INSURANCE'].replace('OTHER', np.nan)\n",
    "pdf['INSURANCE'].head(10)"
   ]
  },
  {
   "cell_type": "code",
   "execution_count": 24,
   "metadata": {},
   "outputs": [],
   "source": [
    "path='patient_data.csv'\n",
    "pdf.to_csv(path, index=False)"
   ]
  },
  {
   "cell_type": "code",
   "execution_count": 25,
   "metadata": {},
   "outputs": [],
   "source": [
    "path='zipcode_data.csv'\n",
    "zipcode_pdf.to_csv(path, index=False)"
   ]
  },
  {
   "cell_type": "code",
   "execution_count": null,
   "metadata": {},
   "outputs": [],
   "source": []
  }
 ],
 "metadata": {
  "kernelspec": {
   "display_name": "Python 3",
   "language": "python",
   "name": "python3"
  },
  "language_info": {
   "codemirror_mode": {
    "name": "ipython",
    "version": 3
   },
   "file_extension": ".py",
   "mimetype": "text/x-python",
   "name": "python",
   "nbconvert_exporter": "python",
   "pygments_lexer": "ipython3",
   "version": "3.6.7"
  }
 },
 "nbformat": 4,
 "nbformat_minor": 2
}
